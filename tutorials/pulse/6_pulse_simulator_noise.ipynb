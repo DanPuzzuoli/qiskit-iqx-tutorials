{
 "cells": [
  {
   "cell_type": "markdown",
   "metadata": {},
   "source": [
    "# Qiskit Aer: Pulse simulation of two qubits using a Duffing oscillator model\n",
    "\n",
    "This notebook shows how to use the Qiskit Aer pulse simulator, which simulates experiments specified as pulse `Schedule` objects at the Hamiltonian level. The simulator solves the Schrodinger equation for a specified Hamiltonian model and pulse `Schedule` in the frame of the drift Hamiltonian.\n",
    "\n",
    "In particular, in this tutorial we will: \n",
    "- Construct a model of a two qubit superconducting system.\n",
    "- Calibrate $\\pi$ pulses on each qubit in the simulated system.\n",
    "- Observe cross-resonance oscillations when driving qubit 1 with target qubit 0.\n",
    "\n",
    "The Introduction outlines the concepts and flow of this notebook."
   ]
  },
  {
   "cell_type": "markdown",
   "metadata": {},
   "source": [
    "## 1. Introduction <a name='introduction'></a>\n",
    "\n",
    "The main sections proceed as follows.\n",
    "\n",
    "### Section 3: Duffing oscillator model\n",
    "\n",
    "To simulate a physical system, it is necessary to specify a model. In this notebook, we will model superconducting qubits as a collection of *Duffing oscillators*. The model is specified in terms of the following parameters:\n",
    "\n",
    "-  Each Duffing oscillator is specified by a frequency $\\nu$, anharmonicity $\\alpha$, and drive strength $r$, which result in the Hamiltonian terms:\n",
    "\n",
    "\\begin{equation}\n",
    "    2\\pi\\nu a^\\dagger a + \\pi \\alpha a^\\dagger a(a^\\dagger a - 1) + 2 \\pi r (a + a^\\dagger) \\times D(t),\n",
    "\\end{equation}\n",
    "\n",
    "where $D(t)$ is the signal on the drive channel for the qubit, and $a^\\dagger$ and $a$ are, respectively, the creation and annihilation operators for the qubit. Note that the drive strength $r$ sets the scaling of the control term, with $D(t)$ assumed to be a complex and unitless number satisfying $|D(t)| \\leq 1$. \n",
    "-  A coupling between a pair of oscillators $(l,k)$ is specified by the coupling strength $J$, resulting in an exchange coupling term:\n",
    "\n",
    "\\begin{equation}\n",
    "    2 \\pi J (a_l a_k^\\dagger + a_l^\\dagger a_k),\n",
    "\\end{equation}\n",
    "\n",
    "where the subscript denotes which qubit the operators act on.\n",
    "- Additionally, for numerical simulation, it is necessary to specify a cutoff dimension; the Duffing oscillator model is *infinite dimensional*, and computer simulation requires restriction of the operators to a finite dimensional subspace.\n",
    "\n",
    "**In the code:** We will define a model of the above form for two coupled qubits using the helper function `duffing_system_model`.\n",
    "\n",
    "### Section 4: $\\pi$-pulse calibration using Ignis\n",
    "\n",
    "Once the model is defined, we will calibrate $\\pi$-pulses on each qubit. A $\\pi$-pulse is defined as a pulse on the drive channel of a qubit that \"flips\" the qubit; i.e. that takes the ground state to the first excited state, and the first excited state to the ground state.\n",
    "\n",
    "We will experimentally find a $\\pi$-pulse for each qubit using the following procedure:\n",
    "- A fixed pulse shape is set - in this case it will be a Gaussian pulse.\n",
    "- A sequence of experiments is run, each consisting of a Gaussian pulse on the qubit, followed by a measurement, with each experiment in the sequence having a subsequently larger amplitude for the Gaussian pulse.\n",
    "- The measurement data is fit, and the pulse amplitude that completely flips the qubit is found (i.e. the $\\pi$-pulse amplitude).\n",
    "\n",
    "**In the code:** Using Ignis we will construct `Schedule` objects for the above experiments, then fit the data to find the $\\pi$-pulse amplitudes. \n",
    "\n",
    "### Section 5: Cross-resonance oscillations\n",
    "\n",
    "Once the $\\pi$-pulses are calibrated, we will simulate the effects of cross-resonance driving on qubit $1$ with target qubit $0$. This means that we will drive qubit $1$ at the frequency of qubit $0$, with the goal of observing that the trajectory and oscillations of qubit $0$ *depends* on the state of qubit $1$. This phenomenon provides a basis for creating two-qubit *controlled* gates. Note: This section requires the calibration of the $\\pi$-pulse in Section 4.\n",
    "\n",
    "To observe cross-resonance driving, we will use experiments very similar to the $\\pi$-pulse calibration case:\n",
    "- Initially, qubit $1$ is either left in the ground state, or is driven to its first excited state using the $\\pi$-pulse found in Section 4.\n",
    "- A sequence of experiments is run, each consisting of a Gaussian pulse on qubit $1$ driven at the frequency of qubit $0$, followed by a measurement of both qubits, with each experiment of the sequence having a subsequently larger amplitude for the Gaussian pulse.\n",
    "\n",
    "**In the code:** Functions for defining the experiments and visualizing the data are constructed, including a visualization of the trajectory of the target qubit on the Bloch sphere."
   ]
  },
  {
   "cell_type": "markdown",
   "metadata": {},
   "source": [
    "## 2. Imports <a name='imports'></a>\n",
    "\n",
    "This notebook makes use of the following imports."
   ]
  },
  {
   "cell_type": "code",
   "execution_count": 48,
   "metadata": {},
   "outputs": [],
   "source": [
    "import numpy as np\n",
    "from scipy.optimize import curve_fit, root\n",
    "\n",
    "# visualization tools\n",
    "import matplotlib.pyplot as plt\n",
    "from qiskit.visualization.bloch import Bloch"
   ]
  },
  {
   "cell_type": "markdown",
   "metadata": {},
   "source": [
    "Import qiskit libraries for working with `pulse` and calibration:"
   ]
  },
  {
   "cell_type": "code",
   "execution_count": 49,
   "metadata": {},
   "outputs": [],
   "source": [
    "import qiskit.pulse as pulse\n",
    "from qiskit.pulse.commands.parametric_pulses import Gaussian, GaussianSquare\n",
    "from qiskit.compiler import assemble\n",
    "\n",
    "from qiskit.ignis.characterization.calibrations import rabi_schedules, RabiFitter"
   ]
  },
  {
   "cell_type": "markdown",
   "metadata": {},
   "source": [
    "Imports for qiskit pulse simulator: "
   ]
  },
  {
   "cell_type": "code",
   "execution_count": 50,
   "metadata": {},
   "outputs": [],
   "source": [
    "# The pulse simulator\n",
    "from qiskit.providers.aer import PulseSimulator\n",
    "\n",
    "# function for constructing duffing models\n",
    "from qiskit.providers.aer.pulse import duffing_system_model"
   ]
  },
  {
   "cell_type": "markdown",
   "metadata": {},
   "source": [
    "## 3. Duffing oscillator system model <a name='duffing'></a>\n",
    "\n",
    "An object representing a model for a collection of Duffing oscillators can be constructed using the `duffing_system_model` function. Here we construct a $2$ Duffing oscillator model with cutoff dimension $3$."
   ]
  },
  {
   "cell_type": "code",
   "execution_count": 51,
   "metadata": {},
   "outputs": [],
   "source": [
    "# cutoff dimension\n",
    "dim_oscillators = 2\n",
    "\n",
    "# frequencies for transmon drift terms, harmonic term and anharmonic term\n",
    "# Number of oscillators in the model is determined from len(oscillator_freqs)\n",
    "oscillator_freqs = [5.0e9]#, 5.2e9]\n",
    "anharm_freqs = [-0.33e9]#, -0.33e9]\n",
    "\n",
    "# drive strengths\n",
    "drive_strengths = [0.02e9]#, 0.02e9]\n",
    "\n",
    "# specify coupling as a dictionary (qubits 0 and 1 are coupled with a coefficient 0.002e9)\n",
    "coupling_dict = {}#{(0,1): 0.002e9}\n",
    "\n",
    "# sample duration for pulse instructions \n",
    "dt = 1e-9\n",
    "\n",
    "T1_list = [100e-7]#, 100e-9]\n",
    "\n",
    "# create the model\n",
    "two_qubit_model = duffing_system_model(dim_oscillators=dim_oscillators,\n",
    "                                       oscillator_freqs=oscillator_freqs,\n",
    "                                       anharm_freqs=anharm_freqs,\n",
    "                                       drive_strengths=drive_strengths,\n",
    "                                       coupling_dict=coupling_dict,\n",
    "                                       dt=dt,\n",
    "                                      T1_list=T1_list)"
   ]
  },
  {
   "cell_type": "markdown",
   "metadata": {},
   "source": [
    "The function `duffing_system_model` returns a `PulseSystemModel` object, which is a general object for storing model information required for simulation with the `PulseSimulator`."
   ]
  },
  {
   "cell_type": "markdown",
   "metadata": {},
   "source": [
    "## 4 Calibrating $\\pi$ pulses on each qubit using Ignis <a name='rabi'></a>\n",
    "\n",
    "As described in the introduction, we now calibrate $\\pi$ pulses on each qubit in `two_qubit_model`. The experiments in this calibration procedure are known as *Rabi experiments*, and the data we will observe are known as *Rabi oscillations*."
   ]
  },
  {
   "cell_type": "markdown",
   "metadata": {},
   "source": [
    "### 4.1 Constructing the schedules\n",
    "\n",
    "We construct the schedules using the `rabi_schedules` function in Ignis. To do this, we need to supply an `InstructionScheduleMap` containing a measurement schedule."
   ]
  },
  {
   "cell_type": "code",
   "execution_count": 52,
   "metadata": {},
   "outputs": [],
   "source": [
    "# list of qubits to be used throughout the notebook\n",
    "qubits = [0]\n",
    "\n",
    "# Construct a measurement schedule and add it to an InstructionScheduleMap\n",
    "meas_amp = 0.025\n",
    "meas_samples = 20\n",
    "meas_sigma = 4\n",
    "meas_width = 15\n",
    "meas_pulse = GaussianSquare(duration=meas_samples, amp=meas_amp,\n",
    "                            sigma=meas_sigma, width=meas_width)\n",
    "\n",
    "acq_sched = pulse.Acquire(meas_samples, pulse.AcquireChannel(0), pulse.MemorySlot(0))\n",
    "acq_sched += pulse.Acquire(meas_samples, pulse.AcquireChannel(1), pulse.MemorySlot(1))\n",
    "\n",
    "measure_sched = pulse.Play(meas_pulse, pulse.MeasureChannel(0)) | pulse.Play(meas_pulse, pulse.MeasureChannel(1)) | acq_sched\n",
    "\n",
    "inst_map = pulse.InstructionScheduleMap()\n",
    "inst_map.add('measure', qubits, measure_sched)"
   ]
  },
  {
   "cell_type": "markdown",
   "metadata": {},
   "source": [
    "Next, construct the Rabi schedules."
   ]
  },
  {
   "cell_type": "code",
   "execution_count": 53,
   "metadata": {},
   "outputs": [],
   "source": [
    "# construct Rabi experiments\n",
    "drive_amps = np.linspace(0, 0.9, 32)\n",
    "drive_sigma = 16\n",
    "drive_duration = 128\n",
    "drive_channels = [pulse.DriveChannel(0)]#, pulse.DriveChannel(1)]\n",
    "\n",
    "\n",
    "rabi_experiments, rabi_amps = rabi_schedules(amp_list=drive_amps, \n",
    "                                             qubits=qubits, \n",
    "                                             pulse_width=drive_duration, \n",
    "                                             pulse_sigma=drive_sigma,\n",
    "                                             drives=drive_channels,\n",
    "                                             inst_map=inst_map,\n",
    "                                             meas_map=[[0]])"
   ]
  },
  {
   "cell_type": "markdown",
   "metadata": {},
   "source": [
    "The `Schedule`s in `rabi_schedules` correspond to experiments to generate Rabi oscillations on both qubits in parallel. Each experiment consists of a Gaussian pulse on the qubits of a given magnitude, followed by measurement.\n",
    "\n",
    "For example:"
   ]
  },
  {
   "cell_type": "code",
   "execution_count": 54,
   "metadata": {},
   "outputs": [
    {
     "data": {
      "image/png": "[encoded data removed]",
      "text/plain": [
       "<Figure size 1500x1800 with 1 Axes>"
      ]
     },
     "execution_count": 54,
     "metadata": {},
     "output_type": "execute_result"
    }
   ],
   "source": [
    "rabi_experiments[10].draw()"
   ]
  },
  {
   "cell_type": "markdown",
   "metadata": {},
   "source": [
    "### 4.2 Simulate the Rabi experiments\n",
    "\n",
    "To simulate the Rabi experiments, assemble the `Schedule` list into a qobj. When assembling, pass the `PulseSimulator` as the backend.\n",
    "\n",
    "Here, we want to use local oscillators with frequencies automatically computed from Duffing model Hamiltonian."
   ]
  },
  {
   "cell_type": "code",
   "execution_count": 55,
   "metadata": {},
   "outputs": [],
   "source": [
    "# instantiate the pulse simulator\n",
    "backend_sim = PulseSimulator()\n",
    "\n",
    "# compute frequencies from the Hamiltonian\n",
    "qubit_lo_freq = two_qubit_model.hamiltonian.get_qubit_lo_from_drift()\n",
    "\n",
    "rabi_qobj = assemble(rabi_experiments, \n",
    "                     backend=backend_sim, \n",
    "                     qubit_lo_freq=qubit_lo_freq,\n",
    "                     meas_level=1, \n",
    "                     meas_return='avg',\n",
    "                     shots=64)"
   ]
  },
  {
   "cell_type": "markdown",
   "metadata": {},
   "source": [
    "Run the simulation using the simulator backend."
   ]
  },
  {
   "cell_type": "code",
   "execution_count": null,
   "metadata": {},
   "outputs": [],
   "source": [
    "# run the simulation\n",
    "from time import time\n",
    "start = time()\n",
    "rabi_result = backend_sim.run(rabi_qobj, two_qubit_model).result()\n",
    "print(time() - start)"
   ]
  },
  {
   "cell_type": "markdown",
   "metadata": {},
   "source": [
    "### 4.3 Fit and plot the data\n",
    "\n",
    "Next, we use `RabiFitter` in Ignis to fit the data, extract the $\\pi$-pulse amplitude, and then plot the data."
   ]
  },
  {
   "cell_type": "code",
   "execution_count": 47,
   "metadata": {},
   "outputs": [
    {
     "ename": "TypeError",
     "evalue": "Improper input: N=4 must not exceed M=2",
     "output_type": "error",
     "traceback": [
      "\u001b[0;31m---------------------------------------------------------------------------\u001b[0m",
      "\u001b[0;31mTypeError\u001b[0m                                 Traceback (most recent call last)",
      "\u001b[0;32m<ipython-input-47-4a27283b5e5f>\u001b[0m in \u001b[0;36m<module>\u001b[0;34m\u001b[0m\n\u001b[0;32m----> 1\u001b[0;31m \u001b[0mrabifit\u001b[0m \u001b[0;34m=\u001b[0m \u001b[0mRabiFitter\u001b[0m\u001b[0;34m(\u001b[0m\u001b[0mrabi_result\u001b[0m\u001b[0;34m,\u001b[0m \u001b[0mrabi_amps\u001b[0m\u001b[0;34m,\u001b[0m \u001b[0mqubits\u001b[0m\u001b[0;34m,\u001b[0m \u001b[0mfit_p0\u001b[0m \u001b[0;34m=\u001b[0m \u001b[0;34m[\u001b[0m\u001b[0;36m0.5\u001b[0m\u001b[0;34m,\u001b[0m\u001b[0;36m0.5\u001b[0m\u001b[0;34m,\u001b[0m\u001b[0;36m0.6\u001b[0m\u001b[0;34m,\u001b[0m\u001b[0;36m1.5\u001b[0m\u001b[0;34m]\u001b[0m\u001b[0;34m)\u001b[0m\u001b[0;34m\u001b[0m\u001b[0;34m\u001b[0m\u001b[0m\n\u001b[0m\u001b[1;32m      2\u001b[0m \u001b[0;34m\u001b[0m\u001b[0m\n\u001b[1;32m      3\u001b[0m \u001b[0mplt\u001b[0m\u001b[0;34m.\u001b[0m\u001b[0mfigure\u001b[0m\u001b[0;34m(\u001b[0m\u001b[0mfigsize\u001b[0m\u001b[0;34m=\u001b[0m\u001b[0;34m(\u001b[0m\u001b[0;36m15\u001b[0m\u001b[0;34m,\u001b[0m \u001b[0;36m10\u001b[0m\u001b[0;34m)\u001b[0m\u001b[0;34m)\u001b[0m\u001b[0;34m\u001b[0m\u001b[0;34m\u001b[0m\u001b[0m\n\u001b[1;32m      4\u001b[0m \u001b[0mq_offset\u001b[0m \u001b[0;34m=\u001b[0m \u001b[0;36m0\u001b[0m\u001b[0;34m\u001b[0m\u001b[0;34m\u001b[0m\u001b[0m\n\u001b[1;32m      5\u001b[0m \u001b[0;32mfor\u001b[0m \u001b[0mqubit\u001b[0m \u001b[0;32min\u001b[0m \u001b[0mqubits\u001b[0m\u001b[0;34m:\u001b[0m\u001b[0;34m\u001b[0m\u001b[0;34m\u001b[0m\u001b[0m\n",
      "\u001b[0;32m~/Documents/projects/qiskit-ignis/qiskit/ignis/characterization/calibrations/fitters.py\u001b[0m in \u001b[0;36m__init__\u001b[0;34m(self, backend_result, xdata, qubits, fit_p0, fit_bounds)\u001b[0m\n\u001b[1;32m     42\u001b[0m             \u001b[0mschedule_names\u001b[0m\u001b[0;34m.\u001b[0m\u001b[0mappend\u001b[0m\u001b[0;34m(\u001b[0m\u001b[0;34m'rabisched_%d_'\u001b[0m \u001b[0;34m%\u001b[0m \u001b[0mcind\u001b[0m\u001b[0;34m)\u001b[0m\u001b[0;34m\u001b[0m\u001b[0;34m\u001b[0m\u001b[0m\n\u001b[1;32m     43\u001b[0m \u001b[0;34m\u001b[0m\u001b[0m\n\u001b[0;32m---> 44\u001b[0;31m         IQFitter.__init__(self, '$Rabi$',\n\u001b[0m\u001b[1;32m     45\u001b[0m                           \u001b[0mbackend_result\u001b[0m\u001b[0;34m,\u001b[0m \u001b[0mxdata\u001b[0m\u001b[0;34m,\u001b[0m\u001b[0;34m\u001b[0m\u001b[0;34m\u001b[0m\u001b[0m\n\u001b[1;32m     46\u001b[0m                           \u001b[0mqubits\u001b[0m\u001b[0;34m,\u001b[0m\u001b[0;34m\u001b[0m\u001b[0;34m\u001b[0m\u001b[0m\n",
      "\u001b[0;32m~/Documents/projects/qiskit-ignis/qiskit/ignis/characterization/fitters.py\u001b[0m in \u001b[0;36m__init__\u001b[0;34m(self, description, backend_result, xdata, qubits, fit_fun, fit_p0, fit_bounds, circuit_names, series)\u001b[0m\n\u001b[1;32m    386\u001b[0m         \"\"\"\n\u001b[1;32m    387\u001b[0m \u001b[0;34m\u001b[0m\u001b[0m\n\u001b[0;32m--> 388\u001b[0;31m         BaseFitter.__init__(self, description,\n\u001b[0m\u001b[1;32m    389\u001b[0m                             \u001b[0mbackend_result\u001b[0m\u001b[0;34m,\u001b[0m \u001b[0mxdata\u001b[0m\u001b[0;34m,\u001b[0m\u001b[0;34m\u001b[0m\u001b[0;34m\u001b[0m\u001b[0m\n\u001b[1;32m    390\u001b[0m                             \u001b[0mqubits\u001b[0m\u001b[0;34m,\u001b[0m \u001b[0mfit_fun\u001b[0m\u001b[0;34m,\u001b[0m\u001b[0;34m\u001b[0m\u001b[0;34m\u001b[0m\u001b[0m\n",
      "\u001b[0;32m~/Documents/projects/qiskit-ignis/qiskit/ignis/characterization/fitters.py\u001b[0m in \u001b[0;36m__init__\u001b[0;34m(self, description, backend_result, xdata, qubits, fit_fun, fit_p0, fit_bounds, circuit_names, series, expected_state)\u001b[0m\n\u001b[1;32m    107\u001b[0m         \u001b[0;32mif\u001b[0m \u001b[0mautofit\u001b[0m\u001b[0;34m:\u001b[0m\u001b[0;34m\u001b[0m\u001b[0;34m\u001b[0m\u001b[0m\n\u001b[1;32m    108\u001b[0m             \u001b[0mself\u001b[0m\u001b[0;34m.\u001b[0m\u001b[0m_calc_data\u001b[0m\u001b[0;34m(\u001b[0m\u001b[0;34m)\u001b[0m\u001b[0;34m\u001b[0m\u001b[0;34m\u001b[0m\u001b[0m\n\u001b[0;32m--> 109\u001b[0;31m             \u001b[0mself\u001b[0m\u001b[0;34m.\u001b[0m\u001b[0mfit_data\u001b[0m\u001b[0;34m(\u001b[0m\u001b[0;34m)\u001b[0m\u001b[0;34m\u001b[0m\u001b[0;34m\u001b[0m\u001b[0m\n\u001b[0m\u001b[1;32m    110\u001b[0m \u001b[0;34m\u001b[0m\u001b[0m\n\u001b[1;32m    111\u001b[0m     \u001b[0;34m@\u001b[0m\u001b[0mproperty\u001b[0m\u001b[0;34m\u001b[0m\u001b[0;34m\u001b[0m\u001b[0m\n",
      "\u001b[0;32m~/Documents/projects/qiskit-ignis/qiskit/ignis/characterization/fitters.py\u001b[0m in \u001b[0;36mfit_data\u001b[0;34m(self, qid, p0, bounds, series)\u001b[0m\n\u001b[1;32m    323\u001b[0m             \u001b[0;32mfor\u001b[0m \u001b[0mqind\u001b[0m \u001b[0;32min\u001b[0m \u001b[0mqfit\u001b[0m\u001b[0;34m:\u001b[0m\u001b[0;34m\u001b[0m\u001b[0;34m\u001b[0m\u001b[0m\n\u001b[1;32m    324\u001b[0m                 \u001b[0mtmp_params\u001b[0m\u001b[0;34m,\u001b[0m \u001b[0mfcov\u001b[0m \u001b[0;34m=\u001b[0m\u001b[0;31m \u001b[0m\u001b[0;31m\\\u001b[0m\u001b[0;34m\u001b[0m\u001b[0;34m\u001b[0m\u001b[0m\n\u001b[0;32m--> 325\u001b[0;31m                      curve_fit(self._fit_fun, self._xdata,\n\u001b[0m\u001b[1;32m    326\u001b[0m                                \u001b[0mself\u001b[0m\u001b[0;34m.\u001b[0m\u001b[0m_ydata\u001b[0m\u001b[0;34m[\u001b[0m\u001b[0mserieslbl\u001b[0m\u001b[0;34m]\u001b[0m\u001b[0;34m[\u001b[0m\u001b[0mqind\u001b[0m\u001b[0;34m]\u001b[0m\u001b[0;34m[\u001b[0m\u001b[0;34m'mean'\u001b[0m\u001b[0;34m]\u001b[0m\u001b[0;34m,\u001b[0m\u001b[0;34m\u001b[0m\u001b[0;34m\u001b[0m\u001b[0m\n\u001b[1;32m    327\u001b[0m                                \u001b[0msigma\u001b[0m\u001b[0;34m=\u001b[0m\u001b[0mself\u001b[0m\u001b[0;34m.\u001b[0m\u001b[0m_ydata\u001b[0m\u001b[0;34m[\u001b[0m\u001b[0mserieslbl\u001b[0m\u001b[0;34m]\u001b[0m\u001b[0;34m[\u001b[0m\u001b[0mqind\u001b[0m\u001b[0;34m]\u001b[0m\u001b[0;34m[\u001b[0m\u001b[0;34m'std'\u001b[0m\u001b[0;34m]\u001b[0m\u001b[0;34m,\u001b[0m\u001b[0;34m\u001b[0m\u001b[0;34m\u001b[0m\u001b[0m\n",
      "\u001b[0;32m~/anaconda3/envs/devEnv/lib/python3.8/site-packages/scipy/optimize/minpack.py\u001b[0m in \u001b[0;36mcurve_fit\u001b[0;34m(f, xdata, ydata, p0, sigma, absolute_sigma, check_finite, bounds, method, jac, **kwargs)\u001b[0m\n\u001b[1;32m    782\u001b[0m         \u001b[0;31m# Remove full_output from kwargs, otherwise we're passing it in twice.\u001b[0m\u001b[0;34m\u001b[0m\u001b[0;34m\u001b[0m\u001b[0;34m\u001b[0m\u001b[0m\n\u001b[1;32m    783\u001b[0m         \u001b[0mreturn_full\u001b[0m \u001b[0;34m=\u001b[0m \u001b[0mkwargs\u001b[0m\u001b[0;34m.\u001b[0m\u001b[0mpop\u001b[0m\u001b[0;34m(\u001b[0m\u001b[0;34m'full_output'\u001b[0m\u001b[0;34m,\u001b[0m \u001b[0;32mFalse\u001b[0m\u001b[0;34m)\u001b[0m\u001b[0;34m\u001b[0m\u001b[0;34m\u001b[0m\u001b[0m\n\u001b[0;32m--> 784\u001b[0;31m         \u001b[0mres\u001b[0m \u001b[0;34m=\u001b[0m \u001b[0mleastsq\u001b[0m\u001b[0;34m(\u001b[0m\u001b[0mfunc\u001b[0m\u001b[0;34m,\u001b[0m \u001b[0mp0\u001b[0m\u001b[0;34m,\u001b[0m \u001b[0mDfun\u001b[0m\u001b[0;34m=\u001b[0m\u001b[0mjac\u001b[0m\u001b[0;34m,\u001b[0m \u001b[0mfull_output\u001b[0m\u001b[0;34m=\u001b[0m\u001b[0;36m1\u001b[0m\u001b[0;34m,\u001b[0m \u001b[0;34m**\u001b[0m\u001b[0mkwargs\u001b[0m\u001b[0;34m)\u001b[0m\u001b[0;34m\u001b[0m\u001b[0;34m\u001b[0m\u001b[0m\n\u001b[0m\u001b[1;32m    785\u001b[0m         \u001b[0mpopt\u001b[0m\u001b[0;34m,\u001b[0m \u001b[0mpcov\u001b[0m\u001b[0;34m,\u001b[0m \u001b[0minfodict\u001b[0m\u001b[0;34m,\u001b[0m \u001b[0merrmsg\u001b[0m\u001b[0;34m,\u001b[0m \u001b[0mier\u001b[0m \u001b[0;34m=\u001b[0m \u001b[0mres\u001b[0m\u001b[0;34m\u001b[0m\u001b[0;34m\u001b[0m\u001b[0m\n\u001b[1;32m    786\u001b[0m         \u001b[0mysize\u001b[0m \u001b[0;34m=\u001b[0m \u001b[0mlen\u001b[0m\u001b[0;34m(\u001b[0m\u001b[0minfodict\u001b[0m\u001b[0;34m[\u001b[0m\u001b[0;34m'fvec'\u001b[0m\u001b[0;34m]\u001b[0m\u001b[0;34m)\u001b[0m\u001b[0;34m\u001b[0m\u001b[0;34m\u001b[0m\u001b[0m\n",
      "\u001b[0;32m~/anaconda3/envs/devEnv/lib/python3.8/site-packages/scipy/optimize/minpack.py\u001b[0m in \u001b[0;36mleastsq\u001b[0;34m(func, x0, args, Dfun, full_output, col_deriv, ftol, xtol, gtol, maxfev, epsfcn, factor, diag)\u001b[0m\n\u001b[1;32m    412\u001b[0m \u001b[0;34m\u001b[0m\u001b[0m\n\u001b[1;32m    413\u001b[0m     \u001b[0;32mif\u001b[0m \u001b[0mn\u001b[0m \u001b[0;34m>\u001b[0m \u001b[0mm\u001b[0m\u001b[0;34m:\u001b[0m\u001b[0;34m\u001b[0m\u001b[0;34m\u001b[0m\u001b[0m\n\u001b[0;32m--> 414\u001b[0;31m         \u001b[0;32mraise\u001b[0m \u001b[0mTypeError\u001b[0m\u001b[0;34m(\u001b[0m\u001b[0;34m'Improper input: N=%s must not exceed M=%s'\u001b[0m \u001b[0;34m%\u001b[0m \u001b[0;34m(\u001b[0m\u001b[0mn\u001b[0m\u001b[0;34m,\u001b[0m \u001b[0mm\u001b[0m\u001b[0;34m)\u001b[0m\u001b[0;34m)\u001b[0m\u001b[0;34m\u001b[0m\u001b[0;34m\u001b[0m\u001b[0m\n\u001b[0m\u001b[1;32m    415\u001b[0m \u001b[0;34m\u001b[0m\u001b[0m\n\u001b[1;32m    416\u001b[0m     \u001b[0;32mif\u001b[0m \u001b[0mepsfcn\u001b[0m \u001b[0;32mis\u001b[0m \u001b[0;32mNone\u001b[0m\u001b[0;34m:\u001b[0m\u001b[0;34m\u001b[0m\u001b[0;34m\u001b[0m\u001b[0m\n",
      "\u001b[0;31mTypeError\u001b[0m: Improper input: N=4 must not exceed M=2"
     ]
    }
   ],
   "source": [
    "rabifit = RabiFitter(rabi_result, rabi_amps, qubits, fit_p0 = [0.5,0.5,0.6,1.5])\n",
    "\n",
    "plt.figure(figsize=(15, 10))\n",
    "q_offset = 0\n",
    "for qubit in qubits:\n",
    "    ax = plt.subplot(2, 2, qubit + 1)\n",
    "    rabifit.plot(qubit, ax=ax)\n",
    "    print('Pi Amp: %f'%rabifit.pi_amplitude(qubit))\n",
    "plt.show()"
   ]
  },
  {
   "cell_type": "markdown",
   "metadata": {},
   "source": [
    "Plotted is the averaged IQ data for observing each qubit. Observe that here, each qubit oscillates between the 0 and 1 state. The amplitude at which a given qubit reaches the peak of the oscillation is the desired $\\pi$-pulse amplitude."
   ]
  },
  {
   "cell_type": "markdown",
   "metadata": {},
   "source": [
    "## 5. Oscillations from cross-resonance drive <a name='cr'></a>\n",
    "\n",
    "Next, we simulate the effects of a cross-resonance drive on qubit $1$ with target qubit $0$, observing that the trajectory and oscillations of qubit $0$ *depends* on the state of qubit $1$.\n",
    "\n",
    "**Note:** This section depends on the $\\pi$-pulse calibrations of Section 2."
   ]
  },
  {
   "cell_type": "markdown",
   "metadata": {},
   "source": [
    "### 5.1 Cross-resonance `ControlChannel` indices\n",
    "\n",
    "Driving qubit $1$ at the frequency of qubit $0$ requires use of a pulse `ControlChannel`. The model generating function `duffing_system_model`, automatically sets up `ControlChannels` for performing cross-resonance drives between pairs of coupled qubits. The index of the `ControlChannel` for performing a particular cross-resonance drive is retrievable using the class method `control_channel_index` on the returned `PulseSystemModel`. For example, to get the `ControlChannel` index corresponding to a CR drive on qubit 1 with target 0, call the function `control_channel_index` with the tuple `(1,0)`:"
   ]
  },
  {
   "cell_type": "code",
   "execution_count": null,
   "metadata": {
    "scrolled": true
   },
   "outputs": [],
   "source": [
    "two_qubit_model.control_channel_index((1,0))"
   ]
  },
  {
   "cell_type": "markdown",
   "metadata": {},
   "source": [
    "Hence, to perform a cross-resonance drive on qubit $1$ with target qubit $0$, use `ControlChannel(1)`. This will be made use of when constructing `Schedule` objects in this section."
   ]
  },
  {
   "cell_type": "markdown",
   "metadata": {},
   "source": [
    "### 5.2 Functions to generate the experiment list, and analyze the output\n",
    "\n",
    "First, we define a function `cr_drive_experiments`, which, given the drive and target indices, and the option to either start with the drive qubit in the ground or excited state, returns a list of experiments for observing the oscillations."
   ]
  },
  {
   "cell_type": "code",
   "execution_count": null,
   "metadata": {},
   "outputs": [],
   "source": [
    "# store the pi amplitudes from Section 2 in a list\n",
    "pi_amps = [rabifit.pi_amplitude(0), rabifit.pi_amplitude(1)]\n",
    "\n",
    "def cr_drive_experiments(drive_idx, \n",
    "                         target_idx, \n",
    "                         flip_drive_qubit = False,\n",
    "                         cr_drive_amps=np.linspace(0, 0.9, 16),\n",
    "                         cr_drive_samples=800,\n",
    "                         cr_drive_sigma=4,\n",
    "                         pi_drive_samples=128,\n",
    "                         pi_drive_sigma=16):\n",
    "    \"\"\"Generate schedules corresponding to CR drive experiments.\n",
    "\n",
    "    Args:\n",
    "        drive_idx (int): label of driven qubit\n",
    "        target_idx (int): label of target qubit\n",
    "        flip_drive_qubit (bool): whether or not to start the driven qubit in the ground or excited state\n",
    "        cr_drive_amps (array): list of drive amplitudes to use\n",
    "        cr_drive_samples (int): number samples for each CR drive signal\n",
    "        cr_drive_sigma (float): standard deviation of CR Gaussian pulse\n",
    "        pi_drive_samples (int): number samples for pi pulse on drive\n",
    "        pi_drive_sigma (float): standard deviation of Gaussian pi pulse on drive\n",
    "\n",
    "    Returns:\n",
    "        list[Schedule]: A list of Schedule objects for each experiment\n",
    "    \"\"\"\n",
    "    \n",
    "    # Construct measurement commands to be used for all schedules\n",
    "    meas_amp = 0.025\n",
    "    meas_samples = 1200\n",
    "    meas_sigma = 4\n",
    "    meas_width = 1150\n",
    "    meas_pulse = GaussianSquare(duration=meas_samples, amp=meas_amp,\n",
    "                               sigma=meas_sigma, width=meas_width)\n",
    "\n",
    "    acq_sched = pulse.Acquire(meas_samples, pulse.AcquireChannel(0), pulse.MemorySlot(0))\n",
    "    acq_sched += pulse.Acquire(meas_samples, pulse.AcquireChannel(1), pulse.MemorySlot(1))\n",
    "    \n",
    "    # create measurement schedule\n",
    "    measure_sched = (pulse.Play(meas_pulse, pulse.MeasureChannel(0)) | \n",
    "                     pulse.Play(meas_pulse, pulse.MeasureChannel(1))| \n",
    "                     acq_sched)\n",
    "    \n",
    "    # Create schedule\n",
    "    schedules = []\n",
    "    for ii, cr_drive_amp in enumerate(cr_drive_amps):\n",
    "        \n",
    "        # pulse for flipping drive qubit if desired\n",
    "        pi_pulse = Gaussian(duration=pi_drive_samples, amp=pi_amps[drive_idx], sigma=pi_drive_sigma)\n",
    "\n",
    "        # cr drive pulse\n",
    "        cr_width = cr_drive_samples - 2*cr_drive_sigma*4\n",
    "        cr_rabi_pulse = GaussianSquare(duration=cr_drive_samples, \n",
    "                                       amp=cr_drive_amp, \n",
    "                                       sigma=cr_drive_sigma,\n",
    "                                       width=cr_width)\n",
    "\n",
    "        # add commands to schedule\n",
    "        schedule = pulse.Schedule(name='cr_rabi_exp_amp_%s' % cr_drive_amp)\n",
    "\n",
    "        # flip drive qubit if desired\n",
    "        if flip_drive_qubit:\n",
    "            schedule += pulse.Play(pi_pulse, pulse.DriveChannel(drive_idx))\n",
    "        \n",
    "        # do cr drive\n",
    "        # First, get the ControlChannel index for CR drive from drive to target\n",
    "        cr_idx = two_qubit_model.control_channel_index((drive_idx, target_idx))\n",
    "        schedule += pulse.Play(cr_rabi_pulse, pulse.ControlChannel(cr_idx))  << schedule.duration\n",
    "        \n",
    "        \n",
    "        schedule += measure_sched << schedule.duration\n",
    "\n",
    "        schedules.append(schedule)\n",
    "    return schedules"
   ]
  },
  {
   "cell_type": "markdown",
   "metadata": {},
   "source": [
    "Next we create two functions for observing the data:\n",
    "- `plot_cr_pop_data` - for plotting the oscillations between the ground state and the first excited state\n",
    "- `plot_bloch_sphere` - for viewing the trajectory of the target qubit on the bloch sphere"
   ]
  },
  {
   "cell_type": "code",
   "execution_count": null,
   "metadata": {},
   "outputs": [],
   "source": [
    "def plot_cr_pop_data(drive_idx, \n",
    "                     target_idx, \n",
    "                     sim_result, \n",
    "                     cr_drive_amps=np.linspace(0, 0.9, 16)):\n",
    "    \"\"\"Plot the population of each qubit.\n",
    "\n",
    "    Args:\n",
    "        drive_idx (int): label of driven qubit\n",
    "        target_idx (int): label of target qubit\n",
    "        sim_result (Result): results of simulation\n",
    "        cr_drive_amps (array): list of drive amplitudes to use for axis labels\n",
    "    \"\"\"\n",
    "    \n",
    "    amp_data_Q0 = []\n",
    "    amp_data_Q1 = []\n",
    "\n",
    "    for exp_idx in range(len(cr_drive_amps)):\n",
    "        exp_mem = sim_result.get_memory(exp_idx)\n",
    "        amp_data_Q0.append(np.abs(exp_mem[0]))\n",
    "        amp_data_Q1.append(np.abs(exp_mem[1]))\n",
    "\n",
    "    plt.plot(cr_drive_amps, amp_data_Q0, label='Q0')\n",
    "    plt.plot(cr_drive_amps, amp_data_Q1, label='Q1')\n",
    "    plt.legend()\n",
    "    plt.xlabel('Pulse amplitude, a.u.', fontsize=20)\n",
    "    plt.ylabel('Signal, a.u.', fontsize=20)\n",
    "    plt.title('CR (Target Q{0}, driving on Q{1})'.format(target_idx, drive_idx), fontsize=20)\n",
    "    plt.grid(True)\n",
    "\n",
    "def bloch_vectors(drive_idx, drive_energy_level, sim_result):\n",
    "    \"\"\"Plot the population of each qubit.\n",
    "\n",
    "    Args:\n",
    "        drive_idx (int): label of driven qubit\n",
    "        drive_energy_level (int): energy level of drive qubit at start of CR drive\n",
    "        sim_result (Result): results of simulation\n",
    "    \n",
    "    Returns:\n",
    "        list: list of Bloch vectors corresponding to the final state of the target qubit\n",
    "              for each experiment\n",
    "    \"\"\"\n",
    "    \n",
    "    # get the dimension used for simulation\n",
    "    dim = int(np.sqrt(len(sim_result.get_statevector(0))))\n",
    "    \n",
    "    \n",
    "    # get the relevant dressed state indices\n",
    "    idx0 = 0\n",
    "    idx1 = 0\n",
    "    if drive_idx == 0:\n",
    "        if drive_energy_level == 0:\n",
    "            idx0, idx1 = 0, dim\n",
    "        elif drive_energy_level == 1:\n",
    "            idx0, idx1 = 1, dim + 1\n",
    "    if drive_idx == 1:\n",
    "        if drive_energy_level == 0:\n",
    "            idx0, idx1 = 0, 1\n",
    "        elif drive_energy_level == 1:\n",
    "            idx0, idx1 = dim, dim + 1\n",
    "\n",
    "    # construct Pauli operators for correct dressed manifold\n",
    "    state0 = np.array([two_qubit_model.hamiltonian._estates[idx0]])\n",
    "    state1 = np.array([two_qubit_model.hamiltonian._estates[idx1]])\n",
    "    \n",
    "    outer01 = np.transpose(state0)@state1\n",
    "    outer10 = np.transpose(state1)@state0\n",
    "    outer00 = np.transpose(state0)@state0\n",
    "    outer11 = np.transpose(state1)@state1\n",
    "    \n",
    "    X = outer01 + outer10\n",
    "    Y = -1j*outer01 + 1j*outer10\n",
    "    Z = outer00 - outer11\n",
    "    \n",
    "    # function for computing a single bloch vector\n",
    "    bloch_vec = lambda vec: np.real(np.array([np.conj(vec)@X@vec, np.conj(vec)@Y@vec, np.conj(vec)@Z@vec]))\n",
    "    \n",
    "    return [bloch_vec(sim_result.get_statevector(idx)) for idx in range(len(sim_result.results))]\n",
    "\n",
    "def plot_bloch_sphere(bloch_vectors):\n",
    "    \"\"\"Given a list of Bloch vectors, plot them on the Bloch sphere\n",
    "\n",
    "    Args:\n",
    "        bloch_vectors (list): list of bloch vectors\n",
    "    \"\"\"\n",
    "    sphere = Bloch()\n",
    "    sphere.add_points(np.transpose(bloch_vectors))\n",
    "    sphere.show()"
   ]
  },
  {
   "cell_type": "markdown",
   "metadata": {},
   "source": [
    "### 5.3 Drive qubit 1 to observe CR oscillations on qubit 0\n",
    "\n",
    "#### Qubit 1 in the ground state\n",
    "\n",
    "First, we drive with both qubit 0 and qubit 1 in the ground state."
   ]
  },
  {
   "cell_type": "code",
   "execution_count": null,
   "metadata": {},
   "outputs": [],
   "source": [
    "# construct experiments\n",
    "drive_idx = 1\n",
    "target_idx = 0\n",
    "flip_drive = False\n",
    "experiments = cr_drive_experiments(drive_idx, target_idx, flip_drive)\n",
    "\n",
    "# compute frequencies from the Hamiltonian\n",
    "qubit_lo_freq = two_qubit_model.hamiltonian.get_qubit_lo_from_drift()\n",
    "\n",
    "# assemble the qobj\n",
    "cr_rabi_qobj = assemble(experiments,\n",
    "                        backend=backend_sim,\n",
    "                        qubit_lo_freq=qubit_lo_freq,\n",
    "                        meas_level=1, \n",
    "                        meas_return='avg',\n",
    "                        shots=512)"
   ]
  },
  {
   "cell_type": "markdown",
   "metadata": {},
   "source": [
    "Run the simulation:"
   ]
  },
  {
   "cell_type": "code",
   "execution_count": null,
   "metadata": {},
   "outputs": [],
   "source": [
    "sim_result = backend_sim.run(cr_rabi_qobj, two_qubit_model).result()\n",
    "\n",
    "plot_cr_pop_data(drive_idx, target_idx, sim_result)"
   ]
  },
  {
   "cell_type": "markdown",
   "metadata": {},
   "source": [
    "Observe that qubit 1 remains in the ground state, while excitations are driven in qubit 0.\n",
    "\n",
    "We may also observe the trajectory of qubit 0 on the Bloch sphere:"
   ]
  },
  {
   "cell_type": "code",
   "execution_count": null,
   "metadata": {},
   "outputs": [],
   "source": [
    "bloch_vecs = bloch_vectors(drive_idx, int(flip_drive), sim_result)\n",
    "plot_bloch_sphere(bloch_vecs)"
   ]
  },
  {
   "cell_type": "markdown",
   "metadata": {},
   "source": [
    "#### Qubit 1 in the first excited state\n",
    "\n",
    "Next, we again perform a CR drive qubit 1 with qubit 0 as the target, but now we start each experiment by flipping qubit 1 into the first excited state. "
   ]
  },
  {
   "cell_type": "code",
   "execution_count": null,
   "metadata": {},
   "outputs": [],
   "source": [
    "# construct experiments, now with flip_drive == True\n",
    "drive_idx = 1\n",
    "target_idx = 0\n",
    "flip_drive = True\n",
    "experiments = cr_drive_experiments(drive_idx, target_idx, flip_drive)\n",
    "\n",
    "# compute frequencies from the Hamiltonian\n",
    "qubit_lo_freq = two_qubit_model.hamiltonian.get_qubit_lo_from_drift()\n",
    "\n",
    "# assemble the qobj\n",
    "cr_rabi_qobj = assemble(experiments,\n",
    "                        backend=backend_sim,\n",
    "                        qubit_lo_freq=qubit_lo_freq,\n",
    "                        meas_level=1, \n",
    "                        meas_return='avg',\n",
    "                        shots=512)"
   ]
  },
  {
   "cell_type": "code",
   "execution_count": null,
   "metadata": {
    "tags": [
     "nbsphinx-thumbnail"
    ]
   },
   "outputs": [],
   "source": [
    "sim_result = backend_sim.run(cr_rabi_qobj, two_qubit_model).result()\n",
    "\n",
    "plot_cr_pop_data(drive_idx, target_idx, sim_result)"
   ]
  },
  {
   "cell_type": "markdown",
   "metadata": {},
   "source": [
    "Observe that now qubit 1 is in the excited state, while oscillations are again being driven on qubit 0, now at a different rate as before.\n",
    "\n",
    "Again, observe the trajectory of qubit 0 on the Bloch sphere:"
   ]
  },
  {
   "cell_type": "code",
   "execution_count": null,
   "metadata": {},
   "outputs": [],
   "source": [
    "bloch_vecs = bloch_vectors(drive_idx, int(flip_drive), sim_result)\n",
    "plot_bloch_sphere(bloch_vecs)"
   ]
  },
  {
   "cell_type": "markdown",
   "metadata": {},
   "source": [
    "Here we see that qubit 0 takes a *different* trajectory on the Bloch sphere when qubit 1 is in the excited state. This is what enables controlled operations between two qubits."
   ]
  },
  {
   "cell_type": "code",
   "execution_count": null,
   "metadata": {},
   "outputs": [],
   "source": [
    "import qiskit.tools.jupyter\n",
    "%qiskit_version_table\n",
    "%qiskit_copyright"
   ]
  }
 ],
 "metadata": {
  "celltoolbar": "Tags",
  "kernelspec": {
   "display_name": "Python 3",
   "language": "python",
   "name": "python3"
  },
  "language_info": {
   "codemirror_mode": {
    "name": "ipython",
    "version": 3
   },
   "file_extension": ".py",
   "mimetype": "text/x-python",
   "name": "python",
   "nbconvert_exporter": "python",
   "pygments_lexer": "ipython3",
   "version": "3.8.3"
  }
 },
 "nbformat": 4,
 "nbformat_minor": 2
}
