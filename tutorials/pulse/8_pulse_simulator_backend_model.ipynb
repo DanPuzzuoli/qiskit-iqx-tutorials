{
 "cells": [
  {
   "cell_type": "markdown",
   "metadata": {},
   "source": [
    "# Qiskit Aer: Pulse simulation of a backend model\n",
    "\n",
    "This notebook shows how to use the Aer pulse simulator using a model generated from a backend. In particular, we run a Rabi experiment to find a $\\pi$-pulse amplitude on a model of the Armonk one qubit backend, generated from the `FakeArmonk` mock backend.\n",
    "\n",
    "## Table of contents\n",
    "\n",
    "1) [Imports](#imports)\n",
    "\n",
    "\n",
    "2) [Construct model from backend](#model)\n",
    "\n",
    "\n",
    "3) [Run Rabi experiments and fit $\\pi$-pulse amplitude](#rabi)"
   ]
  },
  {
   "cell_type": "markdown",
   "metadata": {},
   "source": [
    "## 1. Imports <a name='imports'></a>"
   ]
  },
  {
   "cell_type": "markdown",
   "metadata": {},
   "source": [
    "Import general libraries:"
   ]
  },
  {
   "cell_type": "code",
   "execution_count": 1,
   "metadata": {},
   "outputs": [],
   "source": [
    "import numpy as np"
   ]
  },
  {
   "cell_type": "markdown",
   "metadata": {},
   "source": [
    "Import Rabi experiment generator and fitter from Ignis, and other functions for job submission:"
   ]
  },
  {
   "cell_type": "code",
   "execution_count": 2,
   "metadata": {},
   "outputs": [],
   "source": [
    "from qiskit.ignis.characterization.calibrations import rabi_schedules, RabiFitter\n",
    "\n",
    "from qiskit.pulse import DriveChannel\n",
    "from qiskit.compiler import assemble\n",
    "from qiskit.qobj.utils import MeasLevel, MeasReturnType"
   ]
  },
  {
   "cell_type": "markdown",
   "metadata": {},
   "source": [
    "Import `PulseSimulator` and `PulseSystemModel` for pulse simulation, as well as the mock Armonk backend:"
   ]
  },
  {
   "cell_type": "code",
   "execution_count": 3,
   "metadata": {},
   "outputs": [],
   "source": [
    "# The pulse simulator\n",
    "from qiskit.providers.aer import PulseSimulator\n",
    "\n",
    "# Object for representing physical models\n",
    "from qiskit.providers.aer.pulse import PulseSystemModel\n",
    "\n",
    "# Mock Armonk backend\n",
    "from qiskit.test.mock.backends.armonk.fake_armonk import FakeArmonk"
   ]
  },
  {
   "cell_type": "markdown",
   "metadata": {},
   "source": [
    "## 2. Construct model from backend <a name='model'></a>\n",
    "\n",
    "This section demonstrates the use of the `PulseSystemModel.from_backend` function for generating `PulseSystemModel` objects from a backend. \n",
    "\n",
    "**Note:** Hamiltonian parameters reported in the backends change over time. To stabilize this tutorial relative to these changes, after instantiating `FakeArmonk`, we manually override the Hamiltonian reported in the backend configuration to static values. \n",
    "\n",
    "Instantiate mock backend:"
   ]
  },
  {
   "cell_type": "code",
   "execution_count": 4,
   "metadata": {},
   "outputs": [],
   "source": [
    "armonk_backend = FakeArmonk()"
   ]
  },
  {
   "cell_type": "markdown",
   "metadata": {},
   "source": [
    "Manually override Hamiltonian parameters:"
   ]
  },
  {
   "cell_type": "code",
   "execution_count": 5,
   "metadata": {},
   "outputs": [],
   "source": [
    "freq_est = 4.97e9\n",
    "drive_est = 6.35e7\n",
    "armonk_backend.defaults().qubit_freq_est = [freq_est]\n",
    "armonk_backend.configuration().hamiltonian['h_str']= ['wq0*0.5*(I0-Z0)', 'omegad0*X0||D0']\n",
    "armonk_backend.configuration().hamiltonian['vars'] = {'wq0': 2 * np.pi * freq_est, 'omegad0': drive_est}\n",
    "armonk_backend.configuration().hamiltonian['qub'] = {'0': 2}\n",
    "armonk_backend.configuration().dt = 2.2222222222222221e-10"
   ]
  },
  {
   "cell_type": "markdown",
   "metadata": {},
   "source": [
    "Generate model from backend:"
   ]
  },
  {
   "cell_type": "code",
   "execution_count": 19,
   "metadata": {},
   "outputs": [],
   "source": [
    "armonk_sim = PulseSimulator.from_backend(armonk_backend)\n",
    "armonk_sim.set_options(dynamic_reprate_enabled=True, default_rep_delay=[0.])"
   ]
  },
  {
   "cell_type": "code",
   "execution_count": 20,
   "metadata": {},
   "outputs": [
    {
     "data": {
      "text/plain": [
       "{'backend_name': 'pulse_simulator(fake_armonk)',\n",
       " 'backend_version': '1.1.1',\n",
       " 'n_qubits': 1,\n",
       " 'basis_gates': ['id', 'u1', 'u2', 'u3'],\n",
       " 'gates': [{'name': 'id',\n",
       "   'parameters': [],\n",
       "   'qasm_def': 'gate id q { U(0,0,0) q; }',\n",
       "   'coupling_map': [[0]]},\n",
       "  {'name': 'u1',\n",
       "   'parameters': ['lambda'],\n",
       "   'qasm_def': 'gate u1(lambda) q { U(0,0,lambda) q; }',\n",
       "   'coupling_map': [[0]]},\n",
       "  {'name': 'u2',\n",
       "   'parameters': ['phi', 'lambda'],\n",
       "   'qasm_def': 'gate u2(phi,lambda) q { U(pi/2,phi,lambda) q; }',\n",
       "   'coupling_map': [[0]]},\n",
       "  {'name': 'u3',\n",
       "   'parameters': ['theta', 'phi', 'lambda'],\n",
       "   'qasm_def': 'gate u3(theta,phi,lambda) q { U(theta,phi,lambda) q; }',\n",
       "   'coupling_map': [[0]]}],\n",
       " 'local': False,\n",
       " 'simulator': True,\n",
       " 'conditional': False,\n",
       " 'open_pulse': True,\n",
       " 'memory': True,\n",
       " 'max_shots': 8192,\n",
       " 'coupling_map': None,\n",
       " 'max_experiments': 75,\n",
       " 'sample_name': 'SPARROW',\n",
       " 'n_registers': 1,\n",
       " 'credits_required': True,\n",
       " 'online_date': '2019-10-16T04:00:00+00:00',\n",
       " 'description': 'A Pulse-based simulator configured from the backend: fake_armonk',\n",
       " 'allow_q_object': True,\n",
       " 'parametric_pulses': [],\n",
       " 'quantum_volume': None,\n",
       " 'qubit_channel_mapping': [['d0', 'm0']],\n",
       " 'uchannels_enabled': True,\n",
       " 'url': 'None',\n",
       " 'allow_object_storage': True,\n",
       " 'n_uchannels': 0,\n",
       " 'u_channel_lo': [],\n",
       " 'meas_levels': [1, 2],\n",
       " 'qubit_lo_range': [[4.474452200122868, 5.474452200122868]],\n",
       " 'meas_lo_range': [[6.493427855, 7.493427855]],\n",
       " 'meas_kernels': ['boxcar'],\n",
       " 'discriminators': ['quadratic_discriminator', 'linear_discriminator'],\n",
       " 'hamiltonian': {'description': 'Qubits are modeled as Duffing oscillators. In this case, the system includes higher energy states, i.e. not just |0> and |1>. The Pauli operators are generalized via the following set of transformations:\\n\\n$(\\\\mathbb{I}-\\\\sigma_{i}^z)/2 \\\\rightarrow O_i \\\\equiv b^\\\\dagger_{i} b_{i}$,\\n\\n$\\\\sigma_{+} \\\\rightarrow b^\\\\dagger$,\\n\\n$\\\\sigma_{-} \\\\rightarrow b$,\\n\\n$\\\\sigma_{i}^X \\\\rightarrow b^\\\\dagger_{i} + b_{i}$.\\n\\nQubits are coupled through resonator buses. The provided Hamiltonian has been projected into the zero excitation subspace of the resonator buses leading to an effective qubit-qubit flip-flop interaction. The qubit resonance frequencies in the Hamiltonian are the cavity dressed frequencies and not exactly what is returned by the backend defaults, which also includes the dressing due to the qubit-qubit interactions.\\n\\nQuantities are returned in angular frequencies, with units 2*pi*GHz.\\n\\nWARNING: Currently not all system Hamiltonian information is available to the public, missing values have been replaced with 0.\\n',\n",
       "  'h_latex': '\\\\begin{align} \\\\mathcal{H}/\\\\hbar = & \\\\sum_{i=0}^{0}\\\\left(\\\\frac{\\\\omega_{q,i}}{2}(\\\\mathbb{I}-\\\\sigma_i^{z})+\\\\frac{\\\\Delta_{i}}{2}(O_i^2-O_i)+\\\\Omega_{d,i}D_i(t)\\\\sigma_i^{X}\\\\right) \\\\\\\\ \\\\end{align}',\n",
       "  'h_str': ['wq0*0.5*(I0-Z0)', 'omegad0*X0||D0'],\n",
       "  'osc': {},\n",
       "  'qub': {'0': 2},\n",
       "  'vars': {'wq0': 31227430976.682545, 'omegad0': 63500000.0}},\n",
       " 'rep_times': [1000.0],\n",
       " 'dt': 0.2222222222222222,\n",
       " 'dtm': 0.2222222222222222,\n",
       " 'dynamic_reprate_enabled': True,\n",
       " 'meas_map': [[0]],\n",
       " 'acquisition_latency': [],\n",
       " 'conditional_latency': []}"
      ]
     },
     "execution_count": 20,
     "metadata": {},
     "output_type": "execute_result"
    }
   ],
   "source": [
    "armonk_sim.configuration().to_dict()"
   ]
  },
  {
   "cell_type": "markdown",
   "metadata": {},
   "source": [
    "## 3. Run Rabi experiments and fit $\\pi$-pulse amplitude <a name='rabi'></a>\n",
    "\n",
    "Next, we run a Rabi experiments generated using Ignis on the simulator using the system model generated from the Armonk backend.\n",
    "\n",
    "First, construct Rabi experiment schedules:"
   ]
  },
  {
   "cell_type": "code",
   "execution_count": 8,
   "metadata": {},
   "outputs": [],
   "source": [
    "# qubit list\n",
    "qubits = [0]\n",
    "\n",
    "# drive amplitudes to use\n",
    "num_exps = 64\n",
    "drive_amps = np.linspace(0, 1.0, num_exps)\n",
    "\n",
    "# drive shape parameters\n",
    "drive_duration = 2048\n",
    "drive_sigma = 256\n",
    "\n",
    "# list of drive channels\n",
    "drive_channels = [DriveChannel(0)]\n",
    "\n",
    "# construct the schedules\n",
    "rabi_schedules, xdata = rabi_schedules(amp_list=drive_amps, \n",
    "                                       qubits=qubits, \n",
    "                                       pulse_width=drive_duration, \n",
    "                                       pulse_sigma=drive_sigma,\n",
    "                                       drives=drive_channels, \n",
    "                                       inst_map=armonk_sim.defaults().instruction_schedule_map, \n",
    "                                       meas_map=armonk_sim.configuration().meas_map)"
   ]
  },
  {
   "cell_type": "markdown",
   "metadata": {},
   "source": [
    "Assemble the `qobj` for job submission. When assembling pulse schedules to be used with the pulse simulator, pass the `PulseSimulator` as the backend."
   ]
  },
  {
   "cell_type": "code",
   "execution_count": 21,
   "metadata": {},
   "outputs": [
    {
     "name": "stderr",
     "output_type": "stream",
     "text": [
      "/Users/dpuzzuoli/Documents/projects/qiskit-terra/qiskit/compiler/assemble.py:293: RuntimeWarning: Dynamic rep rates are supported on this backend. 'rep_delay' will be used instead of 'rep_time'.\n",
      "  warnings.warn(\"Dynamic rep rates are supported on this backend. 'rep_delay' will be \"\n"
     ]
    }
   ],
   "source": [
    "rabi_qobj = assemble(rabi_schedules, \n",
    "                     backend=armonk_sim,\n",
    "                     meas_level=1, \n",
    "                     meas_return='avg',\n",
    "                     shots=512)"
   ]
  },
  {
   "cell_type": "markdown",
   "metadata": {},
   "source": [
    "Run the simulation:"
   ]
  },
  {
   "cell_type": "code",
   "execution_count": 10,
   "metadata": {},
   "outputs": [],
   "source": [
    "sim_result = armonk_sim.run(rabi_qobj).result()"
   ]
  },
  {
   "cell_type": "markdown",
   "metadata": {},
   "source": [
    "Generate the Rabi oscillation plot and find the $\\pi$-pulse amplitude:"
   ]
  },
  {
   "cell_type": "code",
   "execution_count": 11,
   "metadata": {},
   "outputs": [
    {
     "name": "stdout",
     "output_type": "stream",
     "text": [
      "Pi Amp: 0.346866\n"
     ]
    },
    {
     "data": {
      "image/png": "[encoded data removed]",
      "text/plain": [
       "<Figure size 432x288 with 1 Axes>"
      ]
     },
     "metadata": {
      "needs_background": "light"
     },
     "output_type": "display_data"
    }
   ],
   "source": [
    "rabi_fit = RabiFitter(sim_result, xdata, qubits, fit_p0 = [1.5, 2, 0, 0])\n",
    "\n",
    "# get the pi amplitude\n",
    "pi_amp = rabi_fit.pi_amplitude(0)\n",
    "\n",
    "# plot\n",
    "rabi_fit.plot(0)\n",
    "print('Pi Amp: %f'%pi_amp)"
   ]
  },
  {
   "cell_type": "code",
   "execution_count": 12,
   "metadata": {},
   "outputs": [
    {
     "data": {
      "text/html": [
       "<h3>Version Information</h3><table><tr><th>Qiskit Software</th><th>Version</th></tr><tr><td>Qiskit</td><td>0.19.6</td></tr><tr><td>Terra</td><td>0.16.0.dev0+0f7673e</td></tr><tr><td>Aer</td><td>0.6.0</td></tr><tr><td>Ignis</td><td>0.4.0.dev0+7692062</td></tr><tr><td>Aqua</td><td>0.7.3</td></tr><tr><td>IBM Q Provider</td><td>0.7.2</td></tr><tr><th>System information</th></tr><tr><td>Python</td><td>3.8.3 (default, Jul  2 2020, 11:26:31) \n",
       "[Clang 10.0.0 ]</td></tr><tr><td>OS</td><td>Darwin</td></tr><tr><td>CPUs</td><td>8</td></tr><tr><td>Memory (Gb)</td><td>32.0</td></tr><tr><td colspan='2'>Wed Aug 12 15:32:08 2020 EDT</td></tr></table>"
      ],
      "text/plain": [
       "<IPython.core.display.HTML object>"
      ]
     },
     "metadata": {},
     "output_type": "display_data"
    },
    {
     "data": {
      "text/html": [
       "<div style='width: 100%; background-color:#d5d9e0;padding-left: 10px; padding-bottom: 10px; padding-right: 10px; padding-top: 5px'><h3>This code is a part of Qiskit</h3><p>&copy; Copyright IBM 2017, 2020.</p><p>This code is licensed under the Apache License, Version 2.0. You may<br>obtain a copy of this license in the LICENSE.txt file in the root directory<br> of this source tree or at http://www.apache.org/licenses/LICENSE-2.0.<p>Any modifications or derivative works of this code must retain this<br>copyright notice, and modified files need to carry a notice indicating<br>that they have been altered from the originals.</p></div>"
      ],
      "text/plain": [
       "<IPython.core.display.HTML object>"
      ]
     },
     "metadata": {},
     "output_type": "display_data"
    }
   ],
   "source": [
    "import qiskit.tools.jupyter\n",
    "%qiskit_version_table\n",
    "%qiskit_copyright"
   ]
  }
 ],
 "metadata": {
  "kernelspec": {
   "display_name": "Python 3",
   "language": "python",
   "name": "python3"
  },
  "language_info": {
   "codemirror_mode": {
    "name": "ipython",
    "version": 3
   },
   "file_extension": ".py",
   "mimetype": "text/x-python",
   "name": "python",
   "nbconvert_exporter": "python",
   "pygments_lexer": "ipython3",
   "version": "3.8.3"
  }
 },
 "nbformat": 4,
 "nbformat_minor": 2
}
