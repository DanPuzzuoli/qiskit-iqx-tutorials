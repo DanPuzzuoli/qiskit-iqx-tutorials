{
 "cells": [
  {
   "cell_type": "code",
   "execution_count": 21,
   "metadata": {},
   "outputs": [],
   "source": [
    "import numpy as np\n",
    "from scipy.optimize import curve_fit, root\n",
    "\n",
    "# visualization tools\n",
    "import matplotlib.pyplot as plt\n",
    "from qiskit.visualization.bloch import Bloch\n",
    "\n",
    "import qiskit.pulse as pulse\n",
    "from qiskit.pulse import Schedule, Play, Acquire, DriveChannel, AcquireChannel, MemorySlot\n",
    "from qiskit.pulse.pulse_lib import Gaussian, GaussianSquare, Waveform\n",
    "from qiskit.compiler import assemble\n",
    "\n",
    "from qiskit.ignis.characterization.calibrations import rabi_schedules, RabiFitter\n",
    "\n",
    "# The pulse simulator\n",
    "from qiskit.providers.aer import PulseSimulator\n",
    "\n",
    "# function for constructing duffing models\n",
    "from qiskit.providers.aer.pulse import duffing_system_model"
   ]
  },
  {
   "cell_type": "markdown",
   "metadata": {},
   "source": [
    "Single 3d qubit"
   ]
  },
  {
   "cell_type": "code",
   "execution_count": 19,
   "metadata": {},
   "outputs": [],
   "source": [
    "# cutoff dimension\n",
    "dim_oscillators = 3\n",
    "\n",
    "# frequencies for transmon drift terms, harmonic term and anharmonic term\n",
    "# Number of oscillators in the model is determined from len(oscillator_freqs)\n",
    "oscillator_freqs = [5.0e9]\n",
    "anharm_freqs = [-0.33e9]\n",
    "\n",
    "# drive strengths\n",
    "drive_strengths = [0.02e9]\n",
    "\n",
    "# specify coupling as a dictionary (qubits 0 and 1 are coupled with a coefficient 0.002e9)\n",
    "coupling_dict = {}\n",
    "\n",
    "# sample duration for pulse instructions \n",
    "dt = 1e-9\n",
    "\n",
    "# create the model\n",
    "one_qubit_model = duffing_system_model(dim_oscillators=dim_oscillators,\n",
    "                                       oscillator_freqs=oscillator_freqs,\n",
    "                                       anharm_freqs=anharm_freqs,\n",
    "                                       drive_strengths=drive_strengths,\n",
    "                                       coupling_dict=coupling_dict,\n",
    "                                       dt=dt)"
   ]
  },
  {
   "cell_type": "markdown",
   "metadata": {},
   "source": [
    "Do a $\\pi$ pulse. The exact form the Hamiltonian (as can be seen in the `duffing_model_generators` documention) requires that the area under the pulse, multiplied by the drive strength, is `0.5`."
   ]
  },
  {
   "cell_type": "code",
   "execution_count": 81,
   "metadata": {},
   "outputs": [],
   "source": [
    "total_samples = 100\n",
    "amp = 0.5 / (total_samples * dt * drive_strengths[0])\n",
    "\n",
    "drive_pulse = Waveform(amp * np.ones(total_samples))\n",
    "schedule = Schedule()\n",
    "schedule |= Play(drive_pulse, DriveChannel(0))\n",
    "schedule |= Acquire(total_samples, AcquireChannel(0), MemorySlot(0)) << schedule.duration"
   ]
  },
  {
   "cell_type": "code",
   "execution_count": 82,
   "metadata": {},
   "outputs": [
    {
     "name": "stderr",
     "output_type": "stream",
     "text": [
      "/Users/dpuzzuoli/Documents/projects/qiskit-terra/qiskit/compiler/assemble.py:320: RuntimeWarning: Dynamic rep rates not supported on this backend. rep_time will be used instead of rep_delay.\n",
      "  warnings.warn(\n"
     ]
    }
   ],
   "source": [
    "backend_sim = PulseSimulator()\n",
    "\n",
    "qobj = assemble([schedule], \n",
    "                     backend=backend_sim, \n",
    "                     qubit_lo_freq=oscillator_freqs,\n",
    "                     meas_level=1, \n",
    "                     meas_return='avg',\n",
    "                     shots=1)"
   ]
  },
  {
   "cell_type": "code",
   "execution_count": 83,
   "metadata": {},
   "outputs": [],
   "source": [
    "results = backend_sim.run(qobj, one_qubit_model).result()"
   ]
  },
  {
   "cell_type": "code",
   "execution_count": 84,
   "metadata": {},
   "outputs": [
    {
     "data": {
      "text/plain": [
       "array([ 1.27103260e-04+0.00706521j, -1.14928725e-02-0.99985547j,\n",
       "       -3.94451879e-05-0.0103448j ])"
      ]
     },
     "execution_count": 84,
     "metadata": {},
     "output_type": "execute_result"
    }
   ],
   "source": [
    "results.get_statevector(0)"
   ]
  },
  {
   "cell_type": "code",
   "execution_count": null,
   "metadata": {},
   "outputs": [],
   "source": []
  }
 ],
 "metadata": {
  "kernelspec": {
   "display_name": "Python 3",
   "language": "python",
   "name": "python3"
  },
  "language_info": {
   "codemirror_mode": {
    "name": "ipython",
    "version": 3
   },
   "file_extension": ".py",
   "mimetype": "text/x-python",
   "name": "python",
   "nbconvert_exporter": "python",
   "pygments_lexer": "ipython3",
   "version": "3.8.3"
  }
 },
 "nbformat": 4,
 "nbformat_minor": 4
}
