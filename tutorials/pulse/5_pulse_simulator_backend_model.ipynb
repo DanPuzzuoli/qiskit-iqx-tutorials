{
 "cells": [
  {
   "cell_type": "markdown",
   "metadata": {},
   "source": [
    "# Qiskit Aer: Pulse simulation of a backend model\n",
    "\n",
    "This notebook shows how to use the Aer pulse simulator using a model generated from a backend. In particular, we run a Rabi experiment to find a $\\pi$-pulse amplitude on a model of the Armonk one qubit backend, generated from the `FakeArmonk` mock backend.\n",
    "\n",
    "## Table of contents\n",
    "\n",
    "1) [Imports](#imports)\n",
    "\n",
    "\n",
    "2) [Construct model from backend](#model)\n",
    "\n",
    "\n",
    "3) [Run Rabi experiments and fit $\\pi$-pulse amplitude](#rabi)"
   ]
  },
  {
   "cell_type": "markdown",
   "metadata": {},
   "source": [
    "## 1. Imports <a name='imports'></a>"
   ]
  },
  {
   "cell_type": "markdown",
   "metadata": {},
   "source": [
    "Import general libraries:"
   ]
  },
  {
   "cell_type": "code",
   "execution_count": 1,
   "metadata": {},
   "outputs": [],
   "source": [
    "import numpy as np"
   ]
  },
  {
   "cell_type": "markdown",
   "metadata": {},
   "source": [
    "Import Rabi experiment generator and fitter from Ignis, and other functions for job submission:"
   ]
  },
  {
   "cell_type": "code",
   "execution_count": 2,
   "metadata": {},
   "outputs": [],
   "source": [
    "from qiskit.ignis.characterization.calibrations import rabi_schedules, RabiFitter\n",
    "\n",
    "from qiskit.pulse import DriveChannel\n",
    "from qiskit.compiler import assemble\n",
    "from qiskit.qobj.utils import MeasLevel, MeasReturnType"
   ]
  },
  {
   "cell_type": "markdown",
   "metadata": {},
   "source": [
    "Import `PulseSimulator` and `PulseSystemModel` for pulse simulation, as well as the mock Armonk backend:"
   ]
  },
  {
   "cell_type": "code",
   "execution_count": 3,
   "metadata": {},
   "outputs": [],
   "source": [
    "# The pulse simulator\n",
    "from qiskit.providers.aer import PulseSimulator\n",
    "\n",
    "# Object for representing physical models\n",
    "from qiskit.providers.aer.pulse import PulseSystemModel\n",
    "\n",
    "# Mock Armonk backend\n",
    "from qiskit.test.mock.backends.armonk.fake_armonk import FakeArmonk"
   ]
  },
  {
   "cell_type": "markdown",
   "metadata": {},
   "source": [
    "## 2. Construct model from backend <a name='model'></a>\n",
    "\n",
    "This section demonstrates the use of the `PulseSystemModel.from_backend` function for generating `PulseSystemModel` objects from a backend. \n",
    "\n",
    "**Note:** Currently not all system Hamiltonian information is available to the public, missing values have been replaced with $0$. As a result, in this notebook, we need to insert parameters into the backend object by hand. Specifically, we:\n",
    "- Set the frequency of the qubit.\n",
    "- Set the value of the drive strength to be consistent with a previously found $\\pi$-pulse amplitude found on the actual Armonk device.\n",
    "\n",
    "Instantiate mock backend:"
   ]
  },
  {
   "cell_type": "code",
   "execution_count": 4,
   "metadata": {},
   "outputs": [],
   "source": [
    "armonk_backend = FakeArmonk()"
   ]
  },
  {
   "cell_type": "markdown",
   "metadata": {},
   "source": [
    "Manual insertion of Hamiltonian parameters:"
   ]
  },
  {
   "cell_type": "code",
   "execution_count": 5,
   "metadata": {},
   "outputs": [],
   "source": [
    "# set the drive strength\n",
    "getattr(armonk_backend.configuration(), 'hamiltonian')['vars']['omegad0'] = 63455017.85\n",
    "\n",
    "# set the qubit frequency\n",
    "freq_est = 4.97e9\n",
    "armonk_backend.defaults().qubit_freq_est = [freq_est]\n",
    "getattr(armonk_backend.configuration(), 'hamiltonian')['vars']['wq0'] = 2*np.pi*freq_est\n",
    "\n",
    "# test\n",
    "#setattr(armonk_backend.configuration(), 'meas_levels', [1, 2])"
   ]
  },
  {
   "cell_type": "markdown",
   "metadata": {},
   "source": [
    "Generate simulator instance from backend:"
   ]
  },
  {
   "cell_type": "code",
   "execution_count": 6,
   "metadata": {},
   "outputs": [],
   "source": [
    "armonk_sim = PulseSimulator.from_backend(armonk_backend)"
   ]
  },
  {
   "cell_type": "code",
   "execution_count": 7,
   "metadata": {},
   "outputs": [
    {
     "data": {
      "text/plain": [
       "'pulse_simulator(fake_armonk)'"
      ]
     },
     "execution_count": 7,
     "metadata": {},
     "output_type": "execute_result"
    }
   ],
   "source": [
    "armonk_sim.configuration().backend_name"
   ]
  },
  {
   "cell_type": "code",
   "execution_count": 8,
   "metadata": {},
   "outputs": [
    {
     "data": {
      "text/plain": [
       "'A Pulse-based simulator configured from the backend: fake_armonk'"
      ]
     },
     "execution_count": 8,
     "metadata": {},
     "output_type": "execute_result"
    }
   ],
   "source": [
    "armonk_sim.configuration().description"
   ]
  },
  {
   "cell_type": "markdown",
   "metadata": {},
   "source": [
    "## 3. Run Rabi experiments and fit $\\pi$-pulse amplitude <a name='rabi'></a>\n",
    "\n",
    "Next, we run a Rabi experiments generated using Ignis on the simulator using the system model generated from the Armonk backend.\n",
    "\n",
    "First, construct Rabi experiment schedules:"
   ]
  },
  {
   "cell_type": "code",
   "execution_count": 9,
   "metadata": {},
   "outputs": [
    {
     "name": "stderr",
     "output_type": "stream",
     "text": [
      "/Users/dpuzzuoli/Documents/projects/qiskit-ignis/qiskit/ignis/characterization/calibrations/pulse_schedules.py:82: DeprecationWarning: \"measure\" has been moved to \"qiskit.pulse.macros\"\n",
      "  sched += measure(qubits, inst_map=inst_map, meas_map=meas_map).shift(pulse_width)\n"
     ]
    }
   ],
   "source": [
    "# qubit list\n",
    "qubits = [0]\n",
    "\n",
    "# drive amplitudes to use\n",
    "num_exps = 64\n",
    "drive_amps = np.linspace(0, 1.0, num_exps)\n",
    "\n",
    "# drive shape parameters\n",
    "drive_duration = 2048\n",
    "drive_sigma = 256\n",
    "\n",
    "# list of drive channels\n",
    "drive_channels = [DriveChannel(0)]\n",
    "\n",
    "# construct the schedules\n",
    "rabi_schedules, xdata = rabi_schedules(amp_list=drive_amps, \n",
    "                                       qubits=qubits, \n",
    "                                       pulse_width=drive_duration, \n",
    "                                       pulse_sigma=drive_sigma,\n",
    "                                       drives=drive_channels, \n",
    "                                       inst_map=armonk_sim.defaults().instruction_schedule_map, \n",
    "                                       meas_map=armonk_sim.configuration().meas_map)"
   ]
  },
  {
   "cell_type": "markdown",
   "metadata": {},
   "source": [
    "Assemble the `qobj` for job submission. When assembling pulse schedules to be used with the pulse simulator, pass the `PulseSimulator` as the backend."
   ]
  },
  {
   "cell_type": "code",
   "execution_count": 10,
   "metadata": {},
   "outputs": [],
   "source": [
    "rabi_qobj = assemble(rabi_schedules, \n",
    "                     backend=armonk_sim,\n",
    "                     meas_level=1, \n",
    "                     meas_return='avg',\n",
    "                     shots=512)"
   ]
  },
  {
   "cell_type": "markdown",
   "metadata": {},
   "source": [
    "Run the simulation:"
   ]
  },
  {
   "cell_type": "code",
   "execution_count": 11,
   "metadata": {},
   "outputs": [],
   "source": [
    "results = armonk_sim.run(rabi_qobj).result()"
   ]
  },
  {
   "cell_type": "markdown",
   "metadata": {},
   "source": [
    "Generate the Rabi oscillation plot and find the $\\pi$-pulse amplitude:"
   ]
  },
  {
   "cell_type": "code",
   "execution_count": 12,
   "metadata": {},
   "outputs": [
    {
     "name": "stdout",
     "output_type": "stream",
     "text": [
      "Pi Amp: 0.348847\n"
     ]
    },
    {
     "data": {
      "image/png": "[encoded data removed]",
      "text/plain": [
       "<Figure size 432x288 with 1 Axes>"
      ]
     },
     "metadata": {
      "needs_background": "light"
     },
     "output_type": "display_data"
    }
   ],
   "source": [
    "rabi_fit = RabiFitter(results, xdata, qubits, fit_p0 = [1.5, 2, 0, 0])\n",
    "\n",
    "# get the pi amplitude\n",
    "pi_amp = rabi_fit.pi_amplitude(0)\n",
    "\n",
    "# plot\n",
    "rabi_fit.plot(0)\n",
    "print('Pi Amp: %f'%pi_amp)"
   ]
  },
  {
   "cell_type": "code",
   "execution_count": 13,
   "metadata": {},
   "outputs": [
    {
     "data": {
      "text/plain": [
       "[{'0': 1.0},\n",
       " {'0': 0.994859701302332, '1': 0.005140298697668},\n",
       " {'0': 0.9795446554537, '1': 0.0204553445463},\n",
       " {'0': 0.954369492051409, '1': 0.04563050794859},\n",
       " {'0': 0.919851957440037, '1': 0.080148042559963},\n",
       " {'0': 0.876702325970808, '1': 0.123297674029192},\n",
       " {'0': 0.825807299122232, '1': 0.174192700877768},\n",
       " {'0': 0.76820922799402, '1': 0.23179077200598},\n",
       " {'0': 0.705102496144616, '1': 0.294897503855385},\n",
       " {'0': 0.637776505520277, '1': 0.362223494479723},\n",
       " {'0': 0.567618434023901, '1': 0.432381565976099},\n",
       " {'0': 0.496062817150276, '1': 0.503937182849724},\n",
       " {'0': 0.424604692255691, '1': 0.575395307744309},\n",
       " {'0': 0.35468332188995, '1': 0.64531667811005},\n",
       " {'0': 0.287750132511037, '1': 0.712249867488962},\n",
       " {'0': 0.225188123990881, '1': 0.774811876009119},\n",
       " {'0': 0.168273359926195, '1': 0.831726640073804},\n",
       " {'0': 0.118173523143249, '1': 0.881826476856751},\n",
       " {'0': 0.075929008503683, '1': 0.924070991496318},\n",
       " {'0': 0.042404530513407, '1': 0.957595469486593},\n",
       " {'0': 0.018288700841984, '1': 0.981711299158016},\n",
       " {'0': 0.004076958124543, '1': 0.995923041875457},\n",
       " {'0': 6.1867568774e-05, '1': 0.999938132431225},\n",
       " {'0': 0.006325968264871, '1': 0.993674031735128},\n",
       " {'0': 0.022740957962486, '1': 0.977259042037514},\n",
       " {'0': 0.048967645655376, '1': 0.951032354344625},\n",
       " {'0': 0.084469638305944, '1': 0.915530361694056},\n",
       " {'0': 0.128515458665647, '1': 0.871484541334353},\n",
       " {'0': 0.180198671948598, '1': 0.819801328051402},\n",
       " {'0': 0.238458362544935, '1': 0.761541637455065},\n",
       " {'0': 0.302092846195114, '1': 0.697907153804885},\n",
       " {'0': 0.369797670293828, '1': 0.630202329706172},\n",
       " {'0': 0.440177215063557, '1': 0.559822784936443},\n",
       " {'0': 0.511794394267059, '1': 0.488205605732941},\n",
       " {'0': 0.583160990701552, '1': 0.416839009298448},\n",
       " {'0': 0.652824951022773, '1': 0.347175048977227},\n",
       " {'0': 0.719339455909142, '1': 0.280660544090857},\n",
       " {'0': 0.781344772359822, '1': 0.218655227640177},\n",
       " {'0': 0.83757188184854, '1': 0.16242811815146},\n",
       " {'0': 0.886851125709271, '1': 0.113148874290729},\n",
       " {'0': 0.928182862838848, '1': 0.071817137161153},\n",
       " {'0': 0.960706525970046, '1': 0.039293474029954},\n",
       " {'0': 0.983758665930239, '1': 0.016241334069761},\n",
       " {'0': 0.996863568766251, '1': 0.003136431233749},\n",
       " {'0': 0.999752701136217, '1': 0.000247298863783},\n",
       " {'0': 0.992366511515739, '1': 0.007633488484261},\n",
       " {'0': 0.974857402207908, '1': 0.025142597792092},\n",
       " {'0': 0.947584686406982, '1': 0.052415313593018},\n",
       " {'0': 0.91110789888483, '1': 0.088892101115171},\n",
       " {'0': 0.866175748897472, '1': 0.133824251102528},\n",
       " {'0': 0.813714121270703, '1': 0.186285878729297},\n",
       " {'0': 0.754809479843172, '1': 0.245190520156828},\n",
       " {'0': 0.690664726331007, '1': 0.309335273668993},\n",
       " {'0': 0.62260059646329, '1': 0.37739940353671},\n",
       " {'0': 0.552008878864173, '1': 0.447991121135827},\n",
       " {'0': 0.480355288255909, '1': 0.519644711744091},\n",
       " {'0': 0.409089551768271, '1': 0.590910448231729},\n",
       " {'0': 0.33970778569285, '1': 0.66029221430715},\n",
       " {'0': 0.273621459645108, '1': 0.726378540354892},\n",
       " {'0': 0.212189956363751, '1': 0.787810043636249},\n",
       " {'0': 0.156695916688404, '1': 0.843304083311596},\n",
       " {'0': 0.1082115006199, '1': 0.8917884993801},\n",
       " {'0': 0.067809167742173, '1': 0.932190832257827},\n",
       " {'0': 0.036293649240032, '1': 0.963706350759968}]"
      ]
     },
     "execution_count": 13,
     "metadata": {},
     "output_type": "execute_result"
    }
   ],
   "source": [
    "results.get_counts()"
   ]
  },
  {
   "cell_type": "code",
   "execution_count": 14,
   "metadata": {},
   "outputs": [
    {
     "data": {
      "text/html": [
       "<h3>Version Information</h3><table><tr><th>Qiskit Software</th><th>Version</th></tr><tr><td>Qiskit</td><td>0.19.6</td></tr><tr><td>Terra</td><td>0.15.0.dev0+3c039db</td></tr><tr><td>Aer</td><td>0.6.0</td></tr><tr><td>Ignis</td><td>0.4.0.dev0+05f693b</td></tr><tr><td>Aqua</td><td>0.7.3</td></tr><tr><td>IBM Q Provider</td><td>0.7.2</td></tr><tr><th>System information</th></tr><tr><td>Python</td><td>3.8.3 (default, Jul  2 2020, 11:26:31) \n",
       "[Clang 10.0.0 ]</td></tr><tr><td>OS</td><td>Darwin</td></tr><tr><td>CPUs</td><td>8</td></tr><tr><td>Memory (Gb)</td><td>32.0</td></tr><tr><td colspan='2'>Wed Aug 05 11:34:52 2020 EDT</td></tr></table>"
      ],
      "text/plain": [
       "<IPython.core.display.HTML object>"
      ]
     },
     "metadata": {},
     "output_type": "display_data"
    },
    {
     "data": {
      "text/html": [
       "<div style='width: 100%; background-color:#d5d9e0;padding-left: 10px; padding-bottom: 10px; padding-right: 10px; padding-top: 5px'><h3>This code is a part of Qiskit</h3><p>&copy; Copyright IBM 2017, 2020.</p><p>This code is licensed under the Apache License, Version 2.0. You may<br>obtain a copy of this license in the LICENSE.txt file in the root directory<br> of this source tree or at http://www.apache.org/licenses/LICENSE-2.0.<p>Any modifications or derivative works of this code must retain this<br>copyright notice, and modified files need to carry a notice indicating<br>that they have been altered from the originals.</p></div>"
      ],
      "text/plain": [
       "<IPython.core.display.HTML object>"
      ]
     },
     "metadata": {},
     "output_type": "display_data"
    }
   ],
   "source": [
    "import qiskit.tools.jupyter\n",
    "%qiskit_version_table\n",
    "%qiskit_copyright"
   ]
  }
 ],
 "metadata": {
  "kernelspec": {
   "display_name": "Python 3",
   "language": "python",
   "name": "python3"
  },
  "language_info": {
   "codemirror_mode": {
    "name": "ipython",
    "version": 3
   },
   "file_extension": ".py",
   "mimetype": "text/x-python",
   "name": "python",
   "nbconvert_exporter": "python",
   "pygments_lexer": "ipython3",
   "version": "3.8.3"
  }
 },
 "nbformat": 4,
 "nbformat_minor": 2
}
